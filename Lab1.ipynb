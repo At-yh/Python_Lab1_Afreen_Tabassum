{
 "cells": [
  {
   "cell_type": "markdown",
   "id": "da9adc83",
   "metadata": {},
   "source": [
    "## Lab 1 -  Pyhton Fundamentals"
   ]
  },
  {
   "cell_type": "markdown",
   "id": "edc14186",
   "metadata": {},
   "source": [
    "### Task 1      (dna_raw.txt)"
   ]
  },
  {
   "cell_type": "code",
   "execution_count": 1,
   "id": "02f1bd3f",
   "metadata": {},
   "outputs": [],
   "source": [
    "# Library for plotting\n",
    "import matplotlib.pyplot as plt"
   ]
  },
  {
   "cell_type": "code",
   "execution_count": 2,
   "id": "ba71fe0f",
   "metadata": {},
   "outputs": [],
   "source": [
    "# Open DNA file and read line by line\n",
    "with open(\"dna_raw.txt\", \"r\") as file:\n",
    "    lines = file.readlines()   # read all lines into a list"
   ]
  },
  {
   "cell_type": "code",
   "execution_count": 3,
   "id": "b5e36cd3",
   "metadata": {},
   "outputs": [],
   "source": [
    "# Empty dictionary to store all sequences\n",
    "sequences = {}\n",
    "\n",
    "# To store current sequence name\n",
    "seq_id = \"\""
   ]
  },
  {
   "cell_type": "code",
   "execution_count": 5,
   "id": "13b6af08",
   "metadata": {},
   "outputs": [],
   "source": [
    "# Going through each line in the file\n",
    "for line in lines:\n",
    "    line = line.strip()   # To remove extra space or new lines\n",
    "\n",
    "    if line.startswith(\">\"):     # Starts with '>' means its a sequence id\n",
    "        seq_id = line[1:]       # Remove '>' and get the name(eg: seq1)\n",
    "        sequences[seq_id] = \"\"  # Create a new entry in the dictionary\n",
    "\n",
    "    else:\n",
    "        sequences[seq_id] += line.upper()  # Adding sequence letters by making all uppercase\n",
    "\n"
   ]
  },
  {
   "cell_type": "code",
   "execution_count": null,
   "id": "6b139507",
   "metadata": {},
   "outputs": [],
   "source": [
    "# Go through each sequence and count DNA letters\n",
    "for name, seq in sequences.items():\n",
    "    # Creating a count dictionary of each DNA letter(C, G, A, T)\n",
    "    counts = {\n",
    "        \"C\": seq.count(\"C\"),\n",
    "        \"G\": seq.count(\"G\"),\n",
    "        \"A\": seq.count(\"A\"),\n",
    "        \"T\": seq.count(\"T\"),\n",
    "        \"N\": seq.count(\"N\")\n",
    "    }\n",
    "\n",
    "    # Now print the dictionary\n",
    "    print(f\"\\n{name} -> {counts}\")"
   ]
  },
  {
   "cell_type": "code",
   "execution_count": null,
   "id": "82f92556",
   "metadata": {},
   "outputs": [],
   "source": [
    "# Plot a bar chart of DNA letters\n",
    "\n",
    "plt.bar(counts.keys(), counts.values(), color=\"pink\")\n",
    "plt.title(f\"DNA Letter Frequency - {name}\")\n",
    "plt.xlabel(\"DNA Base\")\n",
    "plt.ylabel(\"Count\")\n",
    "plt.show()"
   ]
  }
 ],
 "metadata": {
  "kernelspec": {
   "display_name": "Python-Afreen-Tabassum-DE25",
   "language": "python",
   "name": "python3"
  },
  "language_info": {
   "codemirror_mode": {
    "name": "ipython",
    "version": 3
   },
   "file_extension": ".py",
   "mimetype": "text/x-python",
   "name": "python",
   "nbconvert_exporter": "python",
   "pygments_lexer": "ipython3",
   "version": "3.12.10"
  }
 },
 "nbformat": 4,
 "nbformat_minor": 5
}
